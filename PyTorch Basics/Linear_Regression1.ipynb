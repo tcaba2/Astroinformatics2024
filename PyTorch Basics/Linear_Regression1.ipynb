{
 "cells": [
  {
   "cell_type": "code",
   "execution_count": 16,
   "id": "1da87ec3-f585-4ade-8b4d-9e3687cc3ac1",
   "metadata": {},
   "outputs": [],
   "source": [
    "import torch\n",
    "import torch.nn as nn\n",
    "import numpy as np\n",
    "import matplotlib.pyplot as plt"
   ]
  },
  {
   "cell_type": "code",
   "execution_count": 17,
   "id": "df6991f4-2afd-41e7-831b-910c2a7888ee",
   "metadata": {},
   "outputs": [],
   "source": [
    "# Hyper-parameters\n",
    "input_size = 1\n",
    "output_size = 1\n",
    "num_epochs = 60\n",
    "learning_rate = 0.001"
   ]
  },
  {
   "cell_type": "code",
   "execution_count": 18,
   "id": "36ccab9e-2649-49b7-a5e6-96b1659075ae",
   "metadata": {},
   "outputs": [],
   "source": [
    "# Toy dataset\n",
    "x_train = np.array([[3.3], [4.4], [5.5], [6.71], [6.93], [4.168], \n",
    "                    [9.779], [6.182], [7.59], [2.167], [7.042], \n",
    "                    [10.791], [5.313], [7.997], [3.1]], dtype=np.float32)\n",
    "\n",
    "y_train = np.array([[1.7], [2.76], [2.09], [3.19], [1.694], [1.573], \n",
    "                    [3.366], [2.596], [2.53], [1.221], [2.827], \n",
    "                    [3.465], [1.65], [2.904], [1.3]], dtype=np.float32)"
   ]
  },
  {
   "cell_type": "code",
   "execution_count": 19,
   "id": "ef5306be-1e15-47ac-96d4-f25e6ed90825",
   "metadata": {},
   "outputs": [],
   "source": [
    "# Linear regression model\n",
    "model = nn.Linear(input_size, output_size)"
   ]
  },
  {
   "cell_type": "code",
   "execution_count": 20,
   "id": "c551a885-2169-46bf-af8b-0ae571c9d106",
   "metadata": {},
   "outputs": [],
   "source": [
    "# Loss and optimizer\n",
    "criterion = nn.MSELoss()\n",
    "optimizer = torch.optim.SGD(model.parameters(), lr=learning_rate) "
   ]
  },
  {
   "cell_type": "code",
   "execution_count": 21,
   "id": "16c48144-96c8-4885-bc0f-dc408e320924",
   "metadata": {},
   "outputs": [
    {
     "name": "stdout",
     "output_type": "stream",
     "text": [
      "Epoch [5/60], Loss: 2.6684\n",
      "Epoch [10/60], Loss: 1.3005\n",
      "Epoch [15/60], Loss: 0.7461\n",
      "Epoch [20/60], Loss: 0.5212\n",
      "Epoch [25/60], Loss: 0.4872\n",
      "Epoch [30/60], Loss: 0.4773\n",
      "Epoch [35/60], Loss: 0.4681\n",
      "Epoch [40/60], Loss: 0.4598\n",
      "Epoch [45/60], Loss: 0.4576\n",
      "Epoch [50/60], Loss: 0.4568\n",
      "Epoch [55/60], Loss: 0.4560\n",
      "Epoch [60/60], Loss: 0.4553\n"
     ]
    }
   ],
   "source": [
    "# Train the model\n",
    "scheduler = torch.optim.lr_scheduler.StepLR(optimizer, step_size=20, gamma=0.1)\n",
    "\n",
    "for epoch in range(num_epochs):\n",
    "    # Convert numpy arrays to torch tensors\n",
    "    inputs = torch.from_numpy(x_train)\n",
    "    targets = torch.from_numpy(y_train)\n",
    "\n",
    "    # Forward pass\n",
    "    outputs = model(inputs)\n",
    "    loss = criterion(outputs, targets)\n",
    "    \n",
    "    # Backward and optimize\n",
    "    optimizer.zero_grad()\n",
    "    loss.backward()\n",
    "    optimizer.step()\n",
    "\n",
    "    # Update learning rate\n",
    "    scheduler.step()\n",
    "    \n",
    "    if (epoch+1) % 5 == 0:\n",
    "        print ('Epoch [{}/{}], Loss: {:.4f}'.format(epoch+1, num_epochs, loss.item()))\n"
   ]
  },
  {
   "cell_type": "code",
   "execution_count": 22,
   "id": "5dde0d8e-08d3-4f01-a547-c38747f20512",
   "metadata": {},
   "outputs": [
    {
     "data": {
      "image/png": "[encoded data removed]",
      "text/plain": [
       "<Figure size 640x480 with 1 Axes>"
      ]
     },
     "metadata": {},
     "output_type": "display_data"
    }
   ],
   "source": [
    "# Plot the graph\n",
    "predicted = model(torch.from_numpy(x_train)).detach().numpy()\n",
    "plt.plot(x_train, y_train, 'ro', label='Original data')\n",
    "plt.plot(x_train, predicted, label='Fitted line')\n",
    "plt.legend()\n",
    "plt.show()"
   ]
  },
  {
   "cell_type": "code",
   "execution_count": 23,
   "id": "72c5f0ad-9bd7-4ca8-889c-d45661e52da7",
   "metadata": {},
   "outputs": [],
   "source": [
    "# Save the model checkpoint\n",
    "torch.save(model.state_dict(), 'model.ckpt')"
   ]
  },
  {
   "cell_type": "code",
   "execution_count": 24,
   "id": "173032ec-f208-4b85-96e1-8e9c49d56e4e",
   "metadata": {},
   "outputs": [
    {
     "name": "stdout",
     "output_type": "stream",
     "text": [
      "R-squared: 0.16320037841796875\n"
     ]
    }
   ],
   "source": [
    "# R-squared calculation\n",
    "ss_res = np.sum((y_train - predicted) ** 2)\n",
    "ss_tot = np.sum((y_train - np.mean(y_train)) ** 2)\n",
    "r2_score = 1 - (ss_res / ss_tot)\n",
    "print(f'R-squared: {r2_score}')"
   ]
  },
  {
   "cell_type": "code",
   "execution_count": 25,
   "id": "dda94143-b558-487e-8329-31b11a5816c3",
   "metadata": {},
   "outputs": [],
   "source": [
    "from sklearn.preprocessing import PolynomialFeatures"
   ]
  },
  {
   "cell_type": "code",
   "execution_count": 26,
   "id": "b8660149-e44c-4d23-8bdb-c4f767d189f8",
   "metadata": {},
   "outputs": [],
   "source": [
    "# Define the polynomial degree (e.g., 2 for quadratic, 3 for cubic)\n",
    "degree = 2  # You can experiment with higher degrees if needed\n",
    "poly = PolynomialFeatures(degree)\n"
   ]
  },
  {
   "cell_type": "code",
   "execution_count": 34,
   "id": "67d12cda-5f53-478d-b0f8-b3d5b9a82e8b",
   "metadata": {},
   "outputs": [],
   "source": [
    "x_train = (x_train - np.mean(x_train)) / np.std(x_train)\n",
    "y_train = (y_train - np.mean(y_train)) / np.std(y_train)\n"
   ]
  },
  {
   "cell_type": "code",
   "execution_count": 35,
   "id": "490f56ed-f2e9-4b7e-9dd4-86329cab90fa",
   "metadata": {},
   "outputs": [],
   "source": [
    "# Transform input data to polynomial features\n",
    "x_train_poly = poly.fit_transform(x_train)  # x_train now has polynomial features\n"
   ]
  },
  {
   "cell_type": "code",
   "execution_count": 36,
   "id": "60bdd0fd-27a3-4a74-ac20-d1b7be0e241e",
   "metadata": {},
   "outputs": [],
   "source": [
    "# Update input size to match the new number of features from polynomial transformation\n",
    "input_size = x_train_poly.shape[1]  # Updated input size after polynomial transformation\n",
    "model = nn.Linear(input_size, output_size)  # Keep output size the same\n"
   ]
  },
  {
   "cell_type": "code",
   "execution_count": 37,
   "id": "10ceb1bb-593b-482c-b692-f55b27ff2f12",
   "metadata": {},
   "outputs": [],
   "source": [
    "# Convert numpy arrays to torch tensors for polynomial features\n",
    "inputs = torch.from_numpy(x_train_poly)\n",
    "targets = torch.from_numpy(y_train)\n",
    "\n",
    "l2_lambda = 0.001  # Adjust this value based on how much regularization you want\n",
    "for epoch in range(num_epochs):\n",
    "    # Forward pass\n",
    "    outputs = model(inputs)\n",
    "    loss = criterion(outputs, targets)\n",
    "\n",
    "    # Add L2 regularization (weight decay)\n",
    "    l2_reg = torch.tensor(0.)\n",
    "    for param in model.parameters():\n",
    "        l2_reg += torch.norm(param)**2\n",
    "    \n",
    "    loss += l2_lambda * l2_reg\n",
    "    \n",
    "    # Backward and optimize\n",
    "    optimizer.zero_grad()\n",
    "    loss.backward()\n",
    "    optimizer.step()"
   ]
  },
  {
   "cell_type": "code",
   "execution_count": 38,
   "id": "f40c08f4-55b8-42ae-bf4f-4fecff8bed62",
   "metadata": {},
   "outputs": [
    {
     "data": {
      "image/png": "[encoded data removed]",
      "text/plain": [
       "<Figure size 640x480 with 1 Axes>"
      ]
     },
     "metadata": {},
     "output_type": "display_data"
    }
   ],
   "source": [
    "x_grid = np.linspace(min(x_train), max(x_train), 100).reshape(-1, 1)\n",
    "x_grid_poly = poly.fit_transform(x_grid)\n",
    "predicted_grid = model(torch.from_numpy(x_grid_poly)).detach().numpy()\n",
    "\n",
    "plt.plot(x_grid, predicted_grid, label='Fitted polynomial curve (smooth)')\n",
    "plt.scatter(x_train, y_train, color='red', label='Original data')\n",
    "plt.legend()\n",
    "plt.show()\n"
   ]
  },
  {
   "cell_type": "code",
   "execution_count": null,
   "id": "92770f27-6575-4f1e-87e4-dcfc31b038b8",
   "metadata": {},
   "outputs": [],
   "source": []
  }
 ],
 "metadata": {
  "kernelspec": {
   "display_name": "Python 3 (ipykernel)",
   "language": "python",
   "name": "python3"
  },
  "language_info": {
   "codemirror_mode": {
    "name": "ipython",
    "version": 3
   },
   "file_extension": ".py",
   "mimetype": "text/x-python",
   "name": "python",
   "nbconvert_exporter": "python",
   "pygments_lexer": "ipython3",
   "version": "3.11.9"
  }
 },
 "nbformat": 4,
 "nbformat_minor": 5
}
